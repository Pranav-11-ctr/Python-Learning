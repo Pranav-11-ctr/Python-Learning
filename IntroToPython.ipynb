{
 "cells": [
  {
   "cell_type": "markdown",
   "id": "6d14a15a-5033-4e46-9cb1-a2aefe6bed02",
   "metadata": {},
   "source": [
    "## Intro to Jupyter\n",
    "\n",
    "we can write markdown and Python code in our cells. We can choose accordingly in the dropdown above."
   ]
  },
  {
   "cell_type": "code",
   "execution_count": 4,
   "id": "66f3ad96-e09f-46cd-bb53-147063492cf5",
   "metadata": {},
   "outputs": [
    {
     "name": "stdout",
     "output_type": "stream",
     "text": [
      "10\n",
      "12\n"
     ]
    }
   ],
   "source": [
    "a=10\n",
    "print(a)\n",
    "print(12)"
   ]
  },
  {
   "cell_type": "code",
   "execution_count": 11,
   "id": "be90a763-31f2-4d54-bedb-036820a027e3",
   "metadata": {},
   "outputs": [
    {
     "name": "stdout",
     "output_type": "stream",
     "text": [
      "20 22\n"
     ]
    }
   ],
   "source": [
    "#print function work\n",
    "b=20\n",
    "c=22\n",
    "print(b, end = \" \")\n",
    "print(c)"
   ]
  },
  {
   "cell_type": "code",
   "execution_count": 14,
   "id": "2c9b6124-bdb2-4ef1-ac0e-69685bc32288",
   "metadata": {},
   "outputs": [
    {
     "data": {
      "text/plain": [
       "20"
      ]
     },
     "execution_count": 14,
     "metadata": {},
     "output_type": "execute_result"
    }
   ],
   "source": [
    "#here last lne will take as an output it will not print the value of a for that we have to use print()\n",
    "a=10\n",
    "b=20\n",
    "a\n",
    "b"
   ]
  },
  {
   "cell_type": "code",
   "execution_count": 21,
   "id": "258a4570-7ab4-49ca-ae22-280d042e9af4",
   "metadata": {},
   "outputs": [
    {
     "data": {
      "text/plain": [
       "float"
      ]
     },
     "execution_count": 21,
     "metadata": {},
     "output_type": "execute_result"
    }
   ],
   "source": [
    "#Python mein agar aap print() nahi lagate ho, toh sirf last line ka output dikhta hai.\n",
    "#Python interpreter (specially in scripts ya Jupyter-style cells) sirf last expression ka result print karta hai agar aap print() ka use nahi karte.\n",
    "\n",
    "# a = 10 → a mein int assign hua.\n",
    "\n",
    "# type(a) → is waqt a ka type int tha. Lekin aapne is output ko print nahi kiya.\n",
    "\n",
    "# Phir a = 12.3 → ab a mein float assign ho gaya.\n",
    "\n",
    "# type(a) → ab ye expression ka result float hai, aur kyunki ye last line hai, isi ka output dikh raha hai.\n",
    "a=10\n",
    "type(a)\n",
    "a=12.3\n",
    "type(a)"
   ]
  },
  {
   "cell_type": "code",
   "execution_count": 19,
   "id": "17d0633e-e15e-44ad-80f2-6785d5b4097b",
   "metadata": {},
   "outputs": [
    {
     "name": "stdout",
     "output_type": "stream",
     "text": [
      "<class 'int'>\n",
      "<class 'float'>\n",
      "<class 'complex'>\n"
     ]
    }
   ],
   "source": [
    "a=10\n",
    "print(type(a))\n",
    "a=12.3\n",
    "print(type(a))\n",
    "a=2+3j\n",
    "print(type(a))\n"
   ]
  },
  {
   "cell_type": "code",
   "execution_count": 23,
   "id": "08f34e04-204f-4f0b-bf99-473c9b861d0b",
   "metadata": {},
   "outputs": [
    {
     "data": {
      "text/plain": [
       "12.3"
      ]
     },
     "execution_count": 23,
     "metadata": {},
     "output_type": "execute_result"
    }
   ],
   "source": [
    "#agar hmm sbse upar wala cell chalakr phir isko run karenge then ye upar wla ka value show karega\n",
    "# that it is following the order of execution, not the order of cells\n",
    "a"
   ]
  },
  {
   "cell_type": "code",
   "execution_count": 35,
   "id": "185dd1c4-18a4-4d95-9c42-39fcf031e4ff",
   "metadata": {},
   "outputs": [
    {
     "name": "stdout",
     "output_type": "stream",
     "text": [
      "12\n",
      "20\n",
      "32\n",
      "-8\n",
      "240\n",
      "0.6\n",
      "0\n",
      "3\n",
      "5\n"
     ]
    }
   ],
   "source": [
    "# Operator\n",
    "a=12\n",
    "c=a+b\n",
    "d,e=3,5\n",
    "print(a)\n",
    "print(b)\n",
    "print(c)\n",
    "print(a-b)\n",
    "print(a * b)\n",
    "print(a/b)\n",
    "print(a//b) #To know the floor value after division\n",
    "print(d)\n",
    "print(e)"
   ]
  },
  {
   "cell_type": "code",
   "execution_count": 39,
   "id": "15ce1eb2-0b8f-4022-9be8-0ee1ff8b875f",
   "metadata": {},
   "outputs": [
    {
     "name": "stdout",
     "output_type": "stream",
     "text": [
      "this is a string\n",
      "definition\n"
     ]
    }
   ],
   "source": [
    "# Strings in Python\n",
    "a = \"this is a string\"\n",
    "print(a)\n",
    "a = 'definition'\n",
    "print(a)\n"
   ]
  },
  {
   "cell_type": "code",
   "execution_count": 42,
   "id": "2aa4bb00-b2a7-46b4-88ca-132723171a07",
   "metadata": {},
   "outputs": [
    {
     "name": "stdout",
     "output_type": "stream",
     "text": [
      "10\n",
      "<class 'str'>\n",
      "d\n"
     ]
    }
   ],
   "source": [
    "# String properties or we can say functions\n",
    "print(len(a))\n",
    "print(type(a))\n",
    "print(a[0])"
   ]
  },
  {
   "cell_type": "code",
   "execution_count": 54,
   "id": "93554e63-5ed6-41f0-a365-08ce6484a1c2",
   "metadata": {},
   "outputs": [
    {
     "name": "stdout",
     "output_type": "stream",
     "text": [
      "change\n",
      "change karo\n",
      "change karo\n",
      "changechange\n",
      "<class 'str'>\n"
     ]
    }
   ],
   "source": [
    "# Strings are immutable\n",
    "# a[1]='t'  Invalid\n",
    "# print(a)\n",
    "\n",
    "# means we change the reference value but we can not change the value inside string\n",
    "\n",
    "a='change' #Valid as we are not changing the string\n",
    "print(a)\n",
    "b= ' karo'\n",
    "print(a+b)\n",
    "c=a+ b\n",
    "print(c)\n",
    "# d=a + 2 #Not Valid\n",
    "# print(d)\n",
    "d = a * 2\n",
    "print(d) #Valid\n",
    "\n",
    "#No concept of Character in python\n",
    "print(type('2'))"
   ]
  },
  {
   "cell_type": "code",
   "execution_count": 61,
   "id": "663f0816-300c-4623-a9f5-8bbc31a130ad",
   "metadata": {},
   "outputs": [
    {
     "name": "stdout",
     "output_type": "stream",
     "text": [
      "  ABC  \n",
      "  Abc  \n",
      "  abc  \n",
      "Abc\n"
     ]
    }
   ],
   "source": [
    "#Few Functions call for String\n",
    "a = \"  Abc  \"\n",
    "print(a.upper()) #means a.upper() will create a new string and will return, not assign to a again\n",
    "print(a)\n",
    "print(a.lower())\n",
    "print(a.strip())#remove initial and end space from string"
   ]
  },
  {
   "cell_type": "code",
   "execution_count": 5,
   "id": "e30d9fbb-767c-4b73-ad47-6e07ced1853b",
   "metadata": {},
   "outputs": [
    {
     "name": "stdin",
     "output_type": "stream",
     "text": [
      " 123\n"
     ]
    },
    {
     "name": "stdout",
     "output_type": "stream",
     "text": [
      "123\n",
      "<class 'str'>\n"
     ]
    }
   ],
   "source": [
    "#User Input\n",
    "a=input()\n",
    "print(a)\n",
    "print(type(a)) #input() return as a str only"
   ]
  },
  {
   "cell_type": "code",
   "execution_count": 8,
   "id": "9b1e5c6e-af0b-4c13-86f6-206ec19d65b6",
   "metadata": {},
   "outputs": [
    {
     "name": "stdin",
     "output_type": "stream",
     "text": [
      " 12\n"
     ]
    },
    {
     "name": "stdout",
     "output_type": "stream",
     "text": [
      "12\n",
      "<class 'int'>\n"
     ]
    },
    {
     "name": "stdin",
     "output_type": "stream",
     "text": [
      " 12\n"
     ]
    },
    {
     "name": "stdout",
     "output_type": "stream",
     "text": [
      "12.0\n",
      "<class 'float'>\n"
     ]
    }
   ],
   "source": [
    "#To take int float as input\n",
    "a=int(input())\n",
    "print(a)\n",
    "print(type(a))\n",
    "a=float(input())\n",
    "print(a)\n",
    "print(type(a))\n"
   ]
  },
  {
   "cell_type": "code",
   "execution_count": 18,
   "id": "af932098-4074-4b17-b6ac-62b1120f9097",
   "metadata": {},
   "outputs": [
    {
     "name": "stdout",
     "output_type": "stream",
     "text": [
      "bc\n",
      "def\n"
     ]
    }
   ],
   "source": [
    "#String negative indexing is also valid\n",
    "# a b c d e f\n",
    "# 0 1 2 3 4 5\n",
    "# -6-5-4-3-2-1\n",
    "s=\"abcdef\"\n",
    "print(s[1:3]) # 1st index is not included and 3rd index is excluded\n",
    "print(s[-3:]) #-3st is included and -1 is excluded"
   ]
  },
  {
   "cell_type": "code",
   "execution_count": 21,
   "id": "652128ed-ff0e-4ec2-ba0d-6560ed53fbe9",
   "metadata": {},
   "outputs": [
    {
     "name": "stdout",
     "output_type": "stream",
     "text": [
      "bc\n",
      "de\n",
      "ef\n",
      "abc\n",
      "abcde\n"
     ]
    }
   ],
   "source": [
    "#String Slicing\n",
    "a= \"abcdef\"\n",
    "print(a[1:3])\n",
    "print(a[-3:-1])\n",
    "print(a[4:])\n",
    "print(a[:3])\n",
    "print(a[:-1])"
   ]
  },
  {
   "cell_type": "code",
   "execution_count": 10,
   "id": "2a4c1904-b84f-4f61-ab47-6a2a4603c0f1",
   "metadata": {},
   "outputs": [
    {
     "name": "stdout",
     "output_type": "stream",
     "text": [
      "(1, 'w', 'e', 'werty', 9.0)\n",
      "<class 'tuple'>\n",
      "1\n",
      "(1, 'w')\n",
      "(1, 2, 1, 'd')\n",
      "(1, 2, 1, 2)\n",
      "True\n",
      "False\n"
     ]
    }
   ],
   "source": [
    "# Tuple:-Storing any object, and is immutable\n",
    "t=(1,\"w\",'e','werty',9.0)\n",
    "print(t)\n",
    "print(type(t))\n",
    "print(t[0])\n",
    "# t[0]=2 #'tuple' object does not support item assignment, i.e. immutable in nature  Invalid\n",
    "print(t[0:2])\n",
    "\n",
    "# Operators in Tuple\n",
    "t=(1,2)\n",
    "k=(1,'d')\n",
    "print(t + k)\n",
    "print( t * 2)\n",
    "print(1 in t)\n",
    "print(3 in t) # Checking whether 3 is available in tuple t\n"
   ]
  },
  {
   "cell_type": "code",
   "execution_count": 13,
   "id": "a5c3aa7d-a145-45b4-a8ac-3eb17c94c4b2",
   "metadata": {},
   "outputs": [
    {
     "name": "stdout",
     "output_type": "stream",
     "text": [
      "<class 'bool'>\n"
     ]
    }
   ],
   "source": [
    "# Boolean Operator\n",
    "\n",
    "a=True\n",
    "b=False\n",
    "# c=true # It is invalid\n",
    "print(type(a))"
   ]
  },
  {
   "cell_type": "code",
   "execution_count": 19,
   "id": "813f0fe1-1f49-4eec-8e3a-e999c2a66ac0",
   "metadata": {},
   "outputs": [
    {
     "name": "stdout",
     "output_type": "stream",
     "text": [
      "40\n",
      "50\n",
      "40\n"
     ]
    }
   ],
   "source": [
    "x=30\n",
    "y=40\n",
    "z=35\n",
    "\n",
    "if x>y:\n",
    "    print(x)\n",
    "elif y>z:\n",
    "    print(y)\n",
    "    print(y+10)\n",
    "\n",
    "if(x>y and x>z):\n",
    "    print(x)\n",
    "elif(y>x and y>z):\n",
    "    print(y)\n",
    "else:\n",
    "    print(z)\n",
    "    "
   ]
  },
  {
   "cell_type": "code",
   "execution_count": 25,
   "id": "0cd7f8d7-a63b-4399-9b7e-bced658dd71a",
   "metadata": {},
   "outputs": [
    {
     "name": "stdout",
     "output_type": "stream",
     "text": [
      "Enter an integer:\n"
     ]
    },
    {
     "name": "stdin",
     "output_type": "stream",
     "text": [
      " 7\n"
     ]
    },
    {
     "name": "stdout",
     "output_type": "stream",
     "text": [
      "1 2 3 4 5 6 7 \n",
      "done\n"
     ]
    }
   ],
   "source": [
    "# While loop\n",
    "print('Enter an integer:')\n",
    "n=int(input())\n",
    "i=1\n",
    "while i<=n:\n",
    "    print(i, end=\" \")\n",
    "    i+=1\n",
    "print()\n",
    "print('done')"
   ]
  },
  {
   "cell_type": "code",
   "execution_count": 35,
   "id": "09ab8897-0179-42fe-965e-1108037811b4",
   "metadata": {},
   "outputs": [
    {
     "name": "stdout",
     "output_type": "stream",
     "text": [
      "Enter an integer:\n"
     ]
    },
    {
     "name": "stdin",
     "output_type": "stream",
     "text": [
      " 40\n"
     ]
    },
    {
     "name": "stdout",
     "output_type": "stream",
     "text": [
      "0 1 2 3 4 5 6 7 8 9 10 11 12 13 14 15 16 17 18 19 20 21 22 23 24 25 26 27 28 29 30 31 32 33 34 35 36 37 38 39 40 \n",
      "4 ,6 ,8 ,10 ,12 ,14 ,16 ,18 ,\n",
      "Enter a number: \n"
     ]
    },
    {
     "name": "stdin",
     "output_type": "stream",
     "text": [
      " 18\n"
     ]
    },
    {
     "name": "stdout",
     "output_type": "stream",
     "text": [
      "False\n"
     ]
    }
   ],
   "source": [
    "# range(start,end,increment) \n",
    "# start default=0\n",
    "# end =n-1\n",
    "# increment default=1\n",
    "print(\"Enter an integer:\")\n",
    "n=int(input())\n",
    "for i in range(n+1):\n",
    "    print(i,end=\" \")\n",
    "\n",
    "print()\n",
    "for i in range(4,20,2):\n",
    "    print(i,end=\" ,\")\n",
    "\n",
    "print()\n",
    "# Prime number\n",
    "print(\"Enter a number: \")\n",
    "n=int(input())\n",
    "prime=True\n",
    "for i in range(2,n):\n",
    "    if(n%i==0):\n",
    "        prime=False\n",
    "        break\n",
    "print(prime)"
   ]
  },
  {
   "cell_type": "code",
   "execution_count": 41,
   "id": "ff030375-3cc7-4ce6-b8fa-d63d48cbea5b",
   "metadata": {},
   "outputs": [
    {
     "name": "stdout",
     "output_type": "stream",
     "text": [
      "P ,r ,a ,n ,a ,v ,  ,K ,u ,m ,a ,r ,\n",
      "1 2 Pranav Kumar 34.9 "
     ]
    }
   ],
   "source": [
    "# Faster Iteration like range only\n",
    "s=\"Pranav Kumar\"\n",
    "for c in s:\n",
    "    print(c, end=\" ,\")\n",
    "\n",
    "print()\n",
    "t=(1,2,'Pranav','Kumar',34.90)\n",
    "for i in t:\n",
    "    print(i, end=\" \")"
   ]
  },
  {
   "cell_type": "code",
   "execution_count": 51,
   "id": "ddb407c9-0e00-43c5-8a6c-9f2efd70fcad",
   "metadata": {},
   "outputs": [
    {
     "name": "stdout",
     "output_type": "stream",
     "text": [
      "117\n",
      "10000\n",
      "144\n",
      "6\n",
      "17\n",
      "20\n",
      "30\n",
      "104\n"
     ]
    }
   ],
   "source": [
    "# Functions\n",
    "\n",
    "def sum(a,b):\n",
    "    c=a +b \n",
    "    return c\n",
    "\n",
    "print(sum(19,98))\n",
    "\n",
    "def power(base,power=2):\n",
    "    return base ** power\n",
    "\n",
    "print(power(10,4))\n",
    "print(power(12))\n",
    "\n",
    "def sum3(a=1,b=2,c=3):\n",
    "    return a+b+c\n",
    "\n",
    "print(sum3())\n",
    "print(sum3(12))\n",
    "print(sum3(12,5))\n",
    "print(sum3(10,10,10))\n",
    "print(sum3(b=100))"
   ]
  },
  {
   "cell_type": "code",
   "execution_count": 60,
   "id": "e4554363-f733-45a7-a213-b415c306e6c5",
   "metadata": {},
   "outputs": [
    {
     "name": "stdout",
     "output_type": "stream",
     "text": [
      "<class 'tuple'>\n",
      "30\n",
      "<class 'tuple'>\n",
      "70\n",
      "<class 'tuple'>\n",
      "100\n",
      "2100\n",
      "40\n"
     ]
    }
   ],
   "source": [
    "# Variable number of input as a function\n",
    "def sum_of_Variable_Args(a,b,*more):\n",
    "    ans=a+b\n",
    "    print(type(more))\n",
    "    for i in more:\n",
    "        ans+=i\n",
    "    return ans\n",
    "\n",
    "print(sum_of_Variable_Args(10,20))\n",
    "print(sum_of_Variable_Args(10,20,20,20))\n",
    "\n",
    "\n",
    "# More than 1 return value:i.e returne tuple\n",
    "def dummy(a,b):\n",
    "    return a+b,a*b,a-b\n",
    "\n",
    "result=dummy(10,20)\n",
    "print(type(result))\n",
    "sum, multiply,difference=dummy(70,30)\n",
    "print(sum)\n",
    "print(multiply)\n",
    "print(difference)\n"
   ]
  },
  {
   "cell_type": "code",
   "execution_count": 89,
   "id": "e4bb9eb2-b289-4ab7-9d48-fa473bbb46b1",
   "metadata": {},
   "outputs": [
    {
     "name": "stdout",
     "output_type": "stream",
     "text": [
      "<class 'list'>\n",
      "[1, 2, 3]\n",
      "<class 'list'>\n",
      "[]\n",
      "[1, 2, 3]\n",
      "[0, 1, 2, 3, 4, 5, 6, 7, 8, 9]\n",
      "[0, 1, 4, 9, 16, 25, 36, 49, 64, 81]\n",
      "<class 'list'>\n",
      "Pranava\n",
      "[1, 2.3, 'Prabhat']\n",
      "Prabhat\n",
      "[1, 4, 9, 16]\n",
      "1 2 3 \n",
      "<class 'list'>\n",
      "['a', 'bcc', 'd']\n",
      "<class 'str'>\n",
      "a b c d\n",
      "<class 'list'>\n",
      "['a', 'b', 'c', 'd']\n",
      "Enter the number as give space between 2 numbers i.e. 1 2 3\n"
     ]
    },
    {
     "ename": "TypeError",
     "evalue": "'list' object is not callable",
     "output_type": "error",
     "traceback": [
      "\u001b[1;31m---------------------------------------------------------------------------\u001b[0m",
      "\u001b[1;31mTypeError\u001b[0m                                 Traceback (most recent call last)",
      "Cell \u001b[1;32mIn[89], line 60\u001b[0m\n\u001b[0;32m     58\u001b[0m \u001b[38;5;66;03m# little more explained code\u001b[39;00m\n\u001b[0;32m     59\u001b[0m \u001b[38;5;28mprint\u001b[39m(\u001b[38;5;124m\"\u001b[39m\u001b[38;5;124mEnter the number as give space between 2 numbers i.e. 1 2 3\u001b[39m\u001b[38;5;124m\"\u001b[39m)\n\u001b[1;32m---> 60\u001b[0m user_input\u001b[38;5;241m=\u001b[39m\u001b[38;5;28minput\u001b[39m()\u001b[38;5;241m.\u001b[39mstrip()\n\u001b[0;32m     61\u001b[0m num_list\u001b[38;5;241m=\u001b[39muser_input\u001b[38;5;241m.\u001b[39msplit(\u001b[38;5;124m\"\u001b[39m\u001b[38;5;124m \u001b[39m\u001b[38;5;124m\"\u001b[39m)\n\u001b[0;32m     63\u001b[0m \u001b[38;5;28;01mfor\u001b[39;00m i \u001b[38;5;129;01min\u001b[39;00m \u001b[38;5;28mrange\u001b[39m(\u001b[38;5;241m0\u001b[39m,\u001b[38;5;28mlen\u001b[39m(num_list)):\n",
      "\u001b[1;31mTypeError\u001b[0m: 'list' object is not callable"
     ]
    }
   ],
   "source": [
    "# List\n",
    "# it is mutable in nature\n",
    "\n",
    "a=[1,2,3]\n",
    "print(type(a))\n",
    "print(a)\n",
    "\n",
    "a1=list()\n",
    "print(type(a1))\n",
    "print(a1)\n",
    "\n",
    "a2=list(a)\n",
    "print(a2)\n",
    "\n",
    "# Here first while executing \"for i in range(10)\" it is putting the value of \"i\" in list \n",
    "a3= [i for i in range(10)]\n",
    "print(a3)\n",
    "\n",
    "a4=[i*i  for i in range(10)]\n",
    "print(a4)\n",
    "\n",
    "a5=[1,2.3,\"Pranava\"]\n",
    "print(type(a5))\n",
    "print(a5[2])\n",
    "# Mutable in nature\n",
    "a5[2]=\"Prabhat\"\n",
    "print(a5)\n",
    "\n",
    "# How to access data\n",
    "print(a5[-1])\n",
    "print(a4[1:5])\n",
    "\n",
    "# length function\n",
    "len(a5)\n",
    "\n",
    "# Fast iterate\n",
    "for i in a:\n",
    "    print(i,end=\" \")\n",
    "print()\n",
    "\n",
    "\n",
    "# How to take input Data\n",
    "str=\"a,bcc,d\"\n",
    "input1=str.split(\",\") #after splitting returning list\n",
    "print(type(input1))\n",
    "print(input1)\n",
    "\n",
    "str=\" a b c d \"\n",
    "# str=str.split(\" \").strip()  Invalid because split() method returns list and list don't have strip() function only string have\n",
    "str=str.strip()\n",
    "print(type(str))\n",
    "print(str)\n",
    "str=\" a b c d \"\n",
    "str=str.strip().split()\n",
    "print(type(str))\n",
    "print(str)\n",
    "\n",
    "# little more explained code\n",
    "print(\"Enter the number as give space between 2 numbers i.e. 1 2 3\")\n",
    "user_input=input().strip()\n",
    "num_list=user_input.split(\" \")\n",
    "\n",
    "for i in range(0,len(num_list)):\n",
    "    num_list[i]=int(num_list[i])\n",
    "\n",
    "print(num_list)\n",
    "\n",
    "\n",
    "# One Line for takin array as an input\n",
    "\n",
    "\n"
   ]
  }
 ],
 "metadata": {
  "kernelspec": {
   "display_name": "Python [conda env:base] *",
   "language": "python",
   "name": "conda-base-py"
  },
  "language_info": {
   "codemirror_mode": {
    "name": "ipython",
    "version": 3
   },
   "file_extension": ".py",
   "mimetype": "text/x-python",
   "name": "python",
   "nbconvert_exporter": "python",
   "pygments_lexer": "ipython3",
   "version": "3.13.5"
  }
 },
 "nbformat": 4,
 "nbformat_minor": 5
}
